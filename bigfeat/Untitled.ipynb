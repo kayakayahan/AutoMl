{
 "cells": [
  {
   "cell_type": "code",
   "execution_count": 2,
   "id": "31f994dc",
   "metadata": {},
   "outputs": [],
   "source": [
    "from bigfeat_base import BigFeat\n",
    "from local_utils import *\n",
    "import pandas as pd\n",
    "from sklearn.preprocessing import LabelEncoder\n",
    "\n",
    "from sklearn.ensemble import RandomForestClassifier\n",
    "from sklearn.ensemble import GradientBoostingClassifier\n",
    "from sklearn.ensemble import RandomForestRegressor\n",
    "from sklearn.linear_model import LogisticRegression\n",
    "from sklearn.model_selection import train_test_split\n",
    "from sklearn.preprocessing import LabelEncoder\n",
    "from sklearn.preprocessing import StandardScaler\n",
    "from sklearn.metrics import roc_auc_score, make_scorer\n",
    "import os\n",
    "from sklearn.ensemble import AdaBoostClassifier\n",
    "from sklearn.tree import DecisionTreeClassifier\n",
    "from sklearn.ensemble import ExtraTreesClassifier\n",
    "from sklearn.neighbors import KNeighborsClassifier\n",
    "from sklearn.neural_network import MLPClassifier\n",
    "from sklearn.ensemble import RandomForestClassifier\n",
    "from sklearn import svm\n",
    "from sklearn.ensemble import GradientBoostingClassifier\n",
    "from sklearn.linear_model import LinearRegression\n",
    "from sklearn.model_selection import train_test_split\n",
    "import time\n",
    "from sklearn.metrics import f1_score\n",
    "from autofeat import AutoFeatClassifier\n",
    "import matplotlib.pyplot as plt\n",
    "import os"
   ]
  },
  {
   "cell_type": "code",
   "execution_count": 3,
   "id": "8141d84e",
   "metadata": {},
   "outputs": [],
   "source": [
    "ml_models={\"Logistic_Regression\":LogisticRegression(),\n",
    "           \"AdaBoostClassifier\":AdaBoostClassifier(),\n",
    "           \"DecisionTreeClassifier\":DecisionTreeClassifier(),\n",
    "           \"ExtraTreesClassifier\":ExtraTreesClassifier(),\n",
    "           \"KNNClassifier\":KNeighborsClassifier(),\n",
    "           \"MLP\":MLPClassifier(),\n",
    "           \"RandomForestClassifier\":RandomForestClassifier(),\n",
    "           \"SVM\":svm.SVC(),\n",
    "           \"GradientBoostingClassifier\":GradientBoostingClassifier()\n",
    "          }\n",
    "    \n",
    "    "
   ]
  },
  {
   "cell_type": "code",
   "execution_count": 4,
   "id": "eaed8e94",
   "metadata": {},
   "outputs": [
    {
     "data": {
      "text/plain": [
       "['MagicTelescope_train.csv',\n",
       " 'MagicTelescope_valid.csv',\n",
       " 'ailerons_train.csv',\n",
       " 'ailerons_valid.csv',\n",
       " 'banknote_train.csv',\n",
       " 'banknote_valid.csv',\n",
       " 'egg-eye-state_train.csv',\n",
       " 'egg-eye-state_valid.csv',\n",
       " 'gina_train.csv',\n",
       " 'gina_valid.csv',\n",
       " 'nomao_train.csv',\n",
       " 'nomao_valid.csv',\n",
       " 'phoneme_train.csv',\n",
       " 'phoneme_valid.csv',\n",
       " 'spambase_train.csv',\n",
       " 'spambase_valid.csv',\n",
       " 'valley_train.csv',\n",
       " 'valley_valid.csv',\n",
       " 'wind_train.csv',\n",
       " 'wind_valid.csv']"
      ]
     },
     "execution_count": 4,
     "metadata": {},
     "output_type": "execute_result"
    }
   ],
   "source": [
    "datasets=os.listdir(r'/home/ubuntu/BigFeat-master/bigfeat/SAFE_generated/Combined')\n",
    "datasets=sorted(datasets)\n",
    "datasets\n",
    "\n",
    "        "
   ]
  },
  {
   "cell_type": "code",
   "execution_count": null,
   "id": "12f340d9",
   "metadata": {},
   "outputs": [
    {
     "name": "stdout",
     "output_type": "stream",
     "text": [
      "MagicTelescope\n"
     ]
    },
    {
     "name": "stderr",
     "output_type": "stream",
     "text": [
      "/home/ubuntu/.local/lib/python3.6/site-packages/sklearn/linear_model/_logistic.py:765: ConvergenceWarning: lbfgs failed to converge (status=2):\n",
      "ABNORMAL_TERMINATION_IN_LNSRCH.\n",
      "\n",
      "Increase the number of iterations (max_iter) or scale the data as shown in:\n",
      "    https://scikit-learn.org/stable/modules/preprocessing.html\n",
      "Please also refer to the documentation for alternative solver options:\n",
      "    https://scikit-learn.org/stable/modules/linear_model.html#logistic-regression\n",
      "  extra_warning_msg=_LOGISTIC_SOLVER_CONVERGENCE_MSG)\n"
     ]
    },
    {
     "name": "stdout",
     "output_type": "stream",
     "text": [
      "LogisticRegression():0.0\n",
      "AdaBoostClassifier():0.895226870948733\n",
      "DecisionTreeClassifier():0.8664783196167546\n",
      "ExtraTreesClassifier():0.891745283018868\n",
      "KNeighborsClassifier():0.8544913741820345\n",
      "MLPClassifier():0.29749856788237544\n",
      "RandomForestClassifier():0.9038461538461537\n",
      "SVC():0.8114148872480543\n",
      "GradientBoostingClassifier():0.9057492931196984\n",
      "ailerons\n"
     ]
    }
   ],
   "source": [
    "for index in range(0,len(datasets),2):\n",
    "    print(datasets[index].split(\"_\")[0])\n",
    "    data_train=pd.read_csv(f'/home/ubuntu/BigFeat-master/bigfeat/SAFE_generated/Combined/{datasets[index]}')\n",
    "    data_train=data_train.dropna()\n",
    "    y_train=data_train.Label\n",
    "    X_train=data_train.drop('Label',axis=1)\n",
    "    \n",
    "    data_test=pd.read_csv(f'/home/ubuntu/BigFeat-master/bigfeat/SAFE_generated/Combined/{datasets[index+1]}')\n",
    "    data_test=data_test.dropna()\n",
    "    y_test=data_test.Label\n",
    "    X_test=data_test.drop('Label',axis=1)\n",
    "    \n",
    "    for i in ml_models:\n",
    "        model=ml_models[i]\n",
    "        model.fit(X_train,y_train)\n",
    "        \n",
    "        if len(y_train.unique())>2:   # For multiclass classification\n",
    "            y_pred=model.predict_proba(X_test)\n",
    "            try: \n",
    "                #score_auc=roc_auc_score(y_test,y_pred,multi_class=\"ovr\")\n",
    "                score_f1=f1_score(y_test, y_pred, average='weighted')\n",
    "                print(f\"{ml_models[i]}:{score_f1}\")\n",
    "            except ValueError:\n",
    "                pass\n",
    "        else:\n",
    "            y_pred=model.predict(X_test)\n",
    "            try:\n",
    "                #score_auc=roc_auc_score(y_test,y_pred)\n",
    "                score_f1=f1_score(y_test, y_pred)\n",
    "                print(f\"{ml_models[i]}:{score_f1}\")\n",
    "            except ValueError:\n",
    "                pass"
   ]
  },
  {
   "cell_type": "code",
   "execution_count": 6,
   "id": "143430a1",
   "metadata": {},
   "outputs": [
    {
     "name": "stdout",
     "output_type": "stream",
     "text": [
      "ailerons\n"
     ]
    },
    {
     "name": "stderr",
     "output_type": "stream",
     "text": [
      "/home/ubuntu/.local/lib/python3.6/site-packages/sklearn/linear_model/_logistic.py:765: ConvergenceWarning: lbfgs failed to converge (status=1):\n",
      "STOP: TOTAL NO. of ITERATIONS REACHED LIMIT.\n",
      "\n",
      "Increase the number of iterations (max_iter) or scale the data as shown in:\n",
      "    https://scikit-learn.org/stable/modules/preprocessing.html\n",
      "Please also refer to the documentation for alternative solver options:\n",
      "    https://scikit-learn.org/stable/modules/linear_model.html#logistic-regression\n",
      "  extra_warning_msg=_LOGISTIC_SOLVER_CONVERGENCE_MSG)\n"
     ]
    },
    {
     "name": "stdout",
     "output_type": "stream",
     "text": [
      "LogisticRegression():0.8474393530997305\n",
      "AdaBoostClassifier():0.8513407966675344\n",
      "DecisionTreeClassifier():0.8007246376811595\n",
      "ExtraTreesClassifier():0.8566271273852502\n",
      "KNeighborsClassifier():0.8271733472149921\n",
      "MLPClassifier():0.5764835974935495\n",
      "RandomForestClassifier():0.8567002323780015\n",
      "SVC():0.8184114510244176\n",
      "GradientBoostingClassifier():0.8577340920848421\n",
      "banknote\n",
      "LogisticRegression():1.0\n",
      "AdaBoostClassifier():0.9961240310077519\n",
      "DecisionTreeClassifier():0.9864603481624757\n",
      "ExtraTreesClassifier():1.0\n",
      "KNeighborsClassifier():0.9961089494163424\n",
      "MLPClassifier():1.0\n",
      "RandomForestClassifier():1.0\n",
      "SVC():0.978131212723658\n",
      "GradientBoostingClassifier():0.9980582524271845\n",
      "egg-eye-state\n"
     ]
    },
    {
     "name": "stderr",
     "output_type": "stream",
     "text": [
      "/home/ubuntu/.local/lib/python3.6/site-packages/sklearn/linear_model/_logistic.py:765: ConvergenceWarning: lbfgs failed to converge (status=2):\n",
      "ABNORMAL_TERMINATION_IN_LNSRCH.\n",
      "\n",
      "Increase the number of iterations (max_iter) or scale the data as shown in:\n",
      "    https://scikit-learn.org/stable/modules/preprocessing.html\n",
      "Please also refer to the documentation for alternative solver options:\n",
      "    https://scikit-learn.org/stable/modules/linear_model.html#logistic-regression\n",
      "  extra_warning_msg=_LOGISTIC_SOLVER_CONVERGENCE_MSG)\n"
     ]
    },
    {
     "name": "stdout",
     "output_type": "stream",
     "text": [
      "LogisticRegression():0.6965462694437121\n",
      "AdaBoostClassifier():0.8082069580731489\n",
      "DecisionTreeClassifier():0.850420168067227\n",
      "ExtraTreesClassifier():0.9270086412943556\n",
      "KNeighborsClassifier():0.6511627906976745\n",
      "MLPClassifier():0.6960538471690642\n",
      "RandomForestClassifier():0.9213565536205317\n",
      "SVC():0.6965462694437121\n",
      "GradientBoostingClassifier():0.8623227427750852\n",
      "gina\n"
     ]
    },
    {
     "name": "stderr",
     "output_type": "stream",
     "text": [
      "/home/ubuntu/.local/lib/python3.6/site-packages/sklearn/linear_model/_logistic.py:765: ConvergenceWarning: lbfgs failed to converge (status=1):\n",
      "STOP: TOTAL NO. of ITERATIONS REACHED LIMIT.\n",
      "\n",
      "Increase the number of iterations (max_iter) or scale the data as shown in:\n",
      "    https://scikit-learn.org/stable/modules/preprocessing.html\n",
      "Please also refer to the documentation for alternative solver options:\n",
      "    https://scikit-learn.org/stable/modules/linear_model.html#logistic-regression\n",
      "  extra_warning_msg=_LOGISTIC_SOLVER_CONVERGENCE_MSG)\n"
     ]
    },
    {
     "name": "stdout",
     "output_type": "stream",
     "text": [
      "LogisticRegression():0.8669856459330143\n",
      "AdaBoostClassifier():0.8818443804034583\n",
      "DecisionTreeClassifier():0.8474903474903475\n",
      "ExtraTreesClassifier():0.9395085066162571\n",
      "KNeighborsClassifier():0.8538461538461538\n",
      "MLPClassifier():0.8801431127012522\n",
      "RandomForestClassifier():0.9299242424242424\n",
      "SVC():0.655421686746988\n",
      "GradientBoostingClassifier():0.9277566539923954\n",
      "nomao\n"
     ]
    },
    {
     "name": "stderr",
     "output_type": "stream",
     "text": [
      "/home/ubuntu/.local/lib/python3.6/site-packages/sklearn/linear_model/_logistic.py:765: ConvergenceWarning: lbfgs failed to converge (status=1):\n",
      "STOP: TOTAL NO. of ITERATIONS REACHED LIMIT.\n",
      "\n",
      "Increase the number of iterations (max_iter) or scale the data as shown in:\n",
      "    https://scikit-learn.org/stable/modules/preprocessing.html\n",
      "Please also refer to the documentation for alternative solver options:\n",
      "    https://scikit-learn.org/stable/modules/linear_model.html#logistic-regression\n",
      "  extra_warning_msg=_LOGISTIC_SOLVER_CONVERGENCE_MSG)\n"
     ]
    },
    {
     "name": "stdout",
     "output_type": "stream",
     "text": [
      "LogisticRegression():0.9083307525549706\n",
      "AdaBoostClassifier():0.9063416139484647\n",
      "DecisionTreeClassifier():0.9090909090909091\n",
      "ExtraTreesClassifier():0.9437607103910266\n",
      "KNeighborsClassifier():0.9157147267675209\n",
      "MLPClassifier():0.9277461099984594\n",
      "RandomForestClassifier():0.9426395150007773\n",
      "SVC():0.8825259247794458\n",
      "GradientBoostingClassifier():0.9280497280497281\n",
      "phoneme\n"
     ]
    },
    {
     "name": "stderr",
     "output_type": "stream",
     "text": [
      "/home/ubuntu/.local/lib/python3.6/site-packages/sklearn/linear_model/_logistic.py:765: ConvergenceWarning: lbfgs failed to converge (status=1):\n",
      "STOP: TOTAL NO. of ITERATIONS REACHED LIMIT.\n",
      "\n",
      "Increase the number of iterations (max_iter) or scale the data as shown in:\n",
      "    https://scikit-learn.org/stable/modules/preprocessing.html\n",
      "Please also refer to the documentation for alternative solver options:\n",
      "    https://scikit-learn.org/stable/modules/linear_model.html#logistic-regression\n",
      "  extra_warning_msg=_LOGISTIC_SOLVER_CONVERGENCE_MSG)\n"
     ]
    },
    {
     "name": "stdout",
     "output_type": "stream",
     "text": [
      "LogisticRegression():0.8867998433215825\n",
      "AdaBoostClassifier():0.9011857707509882\n",
      "DecisionTreeClassifier():0.9037623762376237\n",
      "ExtraTreesClassifier():0.9371789806400632\n",
      "KNeighborsClassifier():0.9105119187182494\n",
      "MLPClassifier():0.9083601286173634\n",
      "RandomForestClassifier():0.9342313787638669\n",
      "SVC():0.8980544747081711\n",
      "GradientBoostingClassifier():0.9130434782608695\n",
      "spambase\n"
     ]
    },
    {
     "name": "stderr",
     "output_type": "stream",
     "text": [
      "/home/ubuntu/.local/lib/python3.6/site-packages/sklearn/linear_model/_logistic.py:765: ConvergenceWarning: lbfgs failed to converge (status=1):\n",
      "STOP: TOTAL NO. of ITERATIONS REACHED LIMIT.\n",
      "\n",
      "Increase the number of iterations (max_iter) or scale the data as shown in:\n",
      "    https://scikit-learn.org/stable/modules/preprocessing.html\n",
      "Please also refer to the documentation for alternative solver options:\n",
      "    https://scikit-learn.org/stable/modules/linear_model.html#logistic-regression\n",
      "  extra_warning_msg=_LOGISTIC_SOLVER_CONVERGENCE_MSG)\n"
     ]
    },
    {
     "name": "stdout",
     "output_type": "stream",
     "text": [
      "LogisticRegression():0.854119425547997\n",
      "AdaBoostClassifier():0.9294871794871794\n",
      "DecisionTreeClassifier():0.9062499999999999\n",
      "ExtraTreesClassifier():0.9310897435897436\n",
      "KNeighborsClassifier():0.882825040128411\n",
      "MLPClassifier():0.8681780016792612\n",
      "RandomForestClassifier():0.9361022364217253\n",
      "SVC():0.012558869701726845\n",
      "GradientBoostingClassifier():0.9378531073446328\n",
      "valley\n",
      "LogisticRegression():0.0\n"
     ]
    },
    {
     "name": "stderr",
     "output_type": "stream",
     "text": [
      "/home/ubuntu/.local/lib/python3.6/site-packages/sklearn/linear_model/_logistic.py:765: ConvergenceWarning: lbfgs failed to converge (status=2):\n",
      "ABNORMAL_TERMINATION_IN_LNSRCH.\n",
      "\n",
      "Increase the number of iterations (max_iter) or scale the data as shown in:\n",
      "    https://scikit-learn.org/stable/modules/preprocessing.html\n",
      "Please also refer to the documentation for alternative solver options:\n",
      "    https://scikit-learn.org/stable/modules/linear_model.html#logistic-regression\n",
      "  extra_warning_msg=_LOGISTIC_SOLVER_CONVERGENCE_MSG)\n"
     ]
    },
    {
     "name": "stdout",
     "output_type": "stream",
     "text": [
      "AdaBoostClassifier():0.7493796526054591\n",
      "DecisionTreeClassifier():0.6597402597402597\n",
      "ExtraTreesClassifier():0.7729468599033816\n",
      "KNeighborsClassifier():0.5903307888040712\n",
      "MLPClassifier():0.5951417004048584\n",
      "RandomForestClassifier():0.7733990147783252\n",
      "SVC():0.05633802816901409\n",
      "GradientBoostingClassifier():0.7775061124694377\n",
      "wind\n"
     ]
    },
    {
     "name": "stderr",
     "output_type": "stream",
     "text": [
      "/home/ubuntu/.local/lib/python3.6/site-packages/sklearn/linear_model/_logistic.py:765: ConvergenceWarning: lbfgs failed to converge (status=2):\n",
      "ABNORMAL_TERMINATION_IN_LNSRCH.\n",
      "\n",
      "Increase the number of iterations (max_iter) or scale the data as shown in:\n",
      "    https://scikit-learn.org/stable/modules/preprocessing.html\n",
      "Please also refer to the documentation for alternative solver options:\n",
      "    https://scikit-learn.org/stable/modules/linear_model.html#logistic-regression\n",
      "  extra_warning_msg=_LOGISTIC_SOLVER_CONVERGENCE_MSG)\n"
     ]
    },
    {
     "name": "stdout",
     "output_type": "stream",
     "text": [
      "LogisticRegression():0.0\n",
      "AdaBoostClassifier():0.8429594272076373\n",
      "DecisionTreeClassifier():0.7945334590009424\n",
      "ExtraTreesClassifier():0.8549834671705243\n",
      "KNeighborsClassifier():0.8149550402271651\n",
      "MLPClassifier():0.6590204587724736\n",
      "RandomForestClassifier():0.8622811168954094\n",
      "SVC():0.6621704475781728\n",
      "GradientBoostingClassifier():0.8623595505617978\n"
     ]
    }
   ],
   "source": [
    "for index in range(1,len(datasets),2):\n",
    "    print(datasets[index].split(\"_\")[0])\n",
    "    data_train=pd.read_csv(f'/home/ubuntu/BigFeat-master/bigfeat/SAFE_generated/Combined/{datasets[index]}')\n",
    "    data_train=data_train.dropna()\n",
    "    y_train=data_train.Label\n",
    "    X_train=data_train.drop('Label',axis=1)\n",
    "    \n",
    "    data_test=pd.read_csv(f'/home/ubuntu/BigFeat-master/bigfeat/SAFE_generated/Combined/{datasets[index+1]}')\n",
    "    data_test=data_test.dropna()\n",
    "    y_test=data_test.Label\n",
    "    X_test=data_test.drop('Label',axis=1)\n",
    "    \n",
    "    for i in ml_models:\n",
    "        model=ml_models[i]\n",
    "        model.fit(X_train,y_train)\n",
    "        \n",
    "        if len(y_train.unique())>2:   # For multiclass classification\n",
    "            y_pred=model.predict_proba(X_test)\n",
    "            try: \n",
    "                #score_auc=roc_auc_score(y_test,y_pred,multi_class=\"ovr\")\n",
    "                score_f1=f1_score(y_test, y_pred, average='weighted')\n",
    "                print(f\"{ml_models[i]}:{score_f1}\")\n",
    "            except ValueError:\n",
    "                pass\n",
    "        else:\n",
    "            y_pred=model.predict(X_test)\n",
    "            try:\n",
    "                #score_auc=roc_auc_score(y_test,y_pred)\n",
    "                score_f1=f1_score(y_test, y_pred)\n",
    "                print(f\"{ml_models[i]}:{score_f1}\")\n",
    "            except ValueError:\n",
    "                pass\n",
    "        \n",
    "    \n",
    "    "
   ]
  },
  {
   "cell_type": "code",
   "execution_count": 6,
   "id": "938eace6",
   "metadata": {},
   "outputs": [
    {
     "name": "stdout",
     "output_type": "stream",
     "text": [
      "MagicTelescope\n",
      "Train:\n",
      " 171\n",
      "Test:\n",
      " 171\n",
      "ailerons\n",
      "Train:\n",
      " 229\n",
      "Test:\n",
      " 229\n",
      "banknote\n",
      "Train:\n",
      " 84\n",
      "Test:\n",
      " 84\n",
      "egg-eye-state\n",
      "Train:\n",
      " 179\n",
      "Test:\n",
      " 179\n",
      "gina\n",
      "Train:\n",
      " 1974\n",
      "Test:\n",
      " 1974\n",
      "nomao\n",
      "Train:\n",
      " 378\n",
      "Test:\n",
      " 378\n",
      "phoneme\n",
      "Train:\n",
      " 161\n",
      "Test:\n",
      " 161\n",
      "spambase\n",
      "Train:\n",
      " 263\n",
      "Test:\n",
      " 263\n",
      "valley\n",
      "Train:\n",
      " 351\n",
      "Test:\n",
      " 351\n",
      "wind\n",
      "Train:\n",
      " 179\n",
      "Test:\n",
      " 179\n"
     ]
    }
   ],
   "source": [
    "\n",
    "\n",
    "for index in range(0,len(datasets),2):\n",
    "    print(datasets[index].split(\"_\")[0])\n",
    "    data_train=pd.read_csv(f'/home/ubuntu/BigFeat-master/bigfeat/SAFE_generated/Combined/{datasets[index]}')\n",
    "    data_train=data_train.dropna()\n",
    "    y_train=data_train.Label\n",
    "    print(\"Train:\\n\",len(data_train.columns))\n",
    "    data_test=pd.read_csv(f'/home/ubuntu/BigFeat-master/bigfeat/SAFE_generated/Combined/{datasets[index+1]}')\n",
    "    data_test=data_test.dropna()\n",
    "    y_test=data_test.Label\n",
    "    X_test=data_test.drop('Label',axis=1)\n",
    "    \n",
    "    print(\"Test:\\n\",len(data_test.columns))\n",
    "    \n",
    "    "
   ]
  },
  {
   "cell_type": "code",
   "execution_count": 7,
   "id": "aaf49254",
   "metadata": {},
   "outputs": [
    {
     "name": "stdout",
     "output_type": "stream",
     "text": [
      "MagicTelescope\n",
      "Train:\n",
      " 1    8261\n",
      "0    4482\n",
      "Name: Label, dtype: int64\n",
      "Test:\n",
      " 1    4071\n",
      "0    2205\n",
      "Name: Label, dtype: int64\n",
      "ailerons\n",
      "Train:\n",
      " 0    5303\n",
      "1    3909\n",
      "Name: Label, dtype: int64\n",
      "Test:\n",
      " 0    2619\n",
      "1    1919\n",
      "Name: Label, dtype: int64\n",
      "banknote\n",
      "Train:\n",
      " 1    505\n",
      "2    414\n",
      "Name: Label, dtype: int64\n",
      "Test:\n",
      " 1    257\n",
      "2    196\n",
      "Name: Label, dtype: int64\n",
      "egg-eye-state\n",
      "Train:\n",
      " 1    5615\n",
      "2    4421\n",
      "Name: Label, dtype: int64\n",
      "Test:\n",
      " 1    2642\n",
      "2    2302\n",
      "Name: Label, dtype: int64\n",
      "gina\n",
      "Train:\n",
      " 0    1086\n",
      "1    1026\n",
      "Name: Label, dtype: int64\n",
      "Test:\n",
      " 1    524\n",
      "0    517\n",
      "Name: Label, dtype: int64\n",
      "nomao\n",
      "Train:\n",
      " 2    16457\n",
      "1     6634\n",
      "Name: Label, dtype: int64\n",
      "Test:\n",
      " 2    8164\n",
      "1    3210\n",
      "Name: Label, dtype: int64\n",
      "phoneme\n",
      "Train:\n",
      " 1    2542\n",
      "2    1078\n",
      "Name: Label, dtype: int64\n",
      "Test:\n",
      " 1    1276\n",
      "2     508\n",
      "Name: Label, dtype: int64\n",
      "spambase\n",
      "Train:\n",
      " 0    1902\n",
      "1    1180\n",
      "Name: Label, dtype: int64\n",
      "Test:\n",
      " 0    886\n",
      "1    633\n",
      "Name: Label, dtype: int64\n",
      "valley\n",
      "Train:\n",
      " 0    413\n",
      "1    399\n",
      "Name: Label, dtype: int64\n",
      "Test:\n",
      " 1    207\n",
      "0    193\n",
      "Name: Label, dtype: int64\n",
      "wind\n",
      "Train:\n",
      " 0    2394\n",
      "1    2010\n",
      "Name: Label, dtype: int64\n",
      "Test:\n",
      " 0    1107\n",
      "1    1063\n",
      "Name: Label, dtype: int64\n"
     ]
    }
   ],
   "source": [
    "for index in range(0,len(datasets),2):\n",
    "    print(datasets[index].split(\"_\")[0])\n",
    "    data_train=pd.read_csv(f'/home/ubuntu/BigFeat-master/bigfeat/SAFE_generated/Combined/{datasets[index]}')\n",
    "    data_train=data_train.dropna()\n",
    "    y_train=data_train.Label\n",
    "    print(\"Train:\\n\",y_train.value_counts())\n",
    "    data_test=pd.read_csv(f'/home/ubuntu/BigFeat-master/bigfeat/SAFE_generated/Combined/{datasets[index+1]}')\n",
    "    data_test=data_test.dropna()\n",
    "    y_test=data_test.Label\n",
    "    X_test=data_test.drop('Label',axis=1)\n",
    "    \n",
    "    print(\"Test:\\n\",y_test.value_counts())\n",
    "    "
   ]
  },
  {
   "cell_type": "code",
   "execution_count": null,
   "id": "bde4c9ef",
   "metadata": {},
   "outputs": [],
   "source": []
  }
 ],
 "metadata": {
  "kernelspec": {
   "display_name": "Python 3",
   "language": "python",
   "name": "python3"
  },
  "language_info": {
   "codemirror_mode": {
    "name": "ipython",
    "version": 3
   },
   "file_extension": ".py",
   "mimetype": "text/x-python",
   "name": "python",
   "nbconvert_exporter": "python",
   "pygments_lexer": "ipython3",
   "version": "3.6.9"
  }
 },
 "nbformat": 4,
 "nbformat_minor": 5
}
